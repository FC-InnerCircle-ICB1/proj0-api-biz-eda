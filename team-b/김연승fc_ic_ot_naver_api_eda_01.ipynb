{
  "nbformat": 4,
  "nbformat_minor": 0,
  "metadata": {
    "colab": {
      "private_outputs": true,
      "provenance": []
    },
    "kernelspec": {
      "name": "python3",
      "display_name": "Python 3"
    },
    "language_info": {
      "name": "python"
    }
  },
  "cells": [
    {
      "cell_type": "markdown",
      "source": [
        "* [네이버 오픈 API 목록 - INTRO](https://developers.naver.com/products/intro/plan/plan.md)\n",
        "* [애플리케이션 - NAVER Developers](https://developers.naver.com/apps/#/list)"
      ],
      "metadata": {
        "id": "dwir-jUjvv0J"
      }
    },
    {
      "cell_type": "code",
      "source": [],
      "metadata": {
        "id": "HJKqm9ZaTbA5"
      },
      "execution_count": null,
      "outputs": []
    },
    {
      "cell_type": "code",
      "source": [
        "import requests\n",
        "import pandas as pd\n",
        "\n",
        "# 네이버 API 인증 정보\n",
        "# client_id = \"YOUR_CLIENT_ID\"  # 네이버 API Client ID\n",
        "# client_secret = \"YOUR_CLIENT_SECRET\"  # 네이버 API Client Secret\n",
        "\n",
        "from google.colab import userdata\n",
        "client_id = userdata.get('client_id')\n",
        "client_secret = userdata.get(\"client_secret\")\n",
        "\n",
        "# 검색어 트렌드 API URL\n",
        "url = \"https://openapi.naver.com/v1/datalab/shopping/categories\"\n",
        "\n",
        "# 요청 데이터 설정\n",
        "headers = {\n",
        "    \"X-Naver-Client-Id\": client_id,\n",
        "    \"X-Naver-Client-Secret\": client_secret,\n",
        "    \"Content-Type\": \"application/json\"\n",
        "}\n",
        "\n",
        "# 검색 데이터 요청 파라미터\n",
        "body = {\n",
        "    \"startDate\": \"2024-11-01\",\n",
        "    \"endDate\": \"2024-12-21\",\n",
        "    \"timeUnit\": \"date\",\n",
        "    \"category\": [{\"name\": \"패션의류\", \"param\": [\"50000000\"]}],\n",
        "    \"device\": \"mo\",\n",
        "    \"gender\": \"m\",\n",
        "    \"ages\": [\"10\", \"20\", \"30\"]\n",
        "}\n",
        "\n",
        "# API 요청\n",
        "response = requests.post(url, headers=headers, json=body)\n",
        "\n",
        "# 응답 처리\n",
        "if response.status_code == 200:\n",
        "    data = response.json()\n",
        "\n",
        "    display(pd.DataFrame(data['results']))\n",
        "    # 분석 데이터프레임 생성\n",
        "    results = []\n",
        "    for category_data in data[\"results\"]:\n",
        "        for data_point in category_data[\"data\"]:\n",
        "            results.append({\n",
        "                \"date\": data_point[\"period\"],\n",
        "                \"group\": category_data[\"title\"],\n",
        "                \"ratio\": data_point[\"ratio\"]\n",
        "            })\n",
        "\n",
        "    # 데이터프레임 생성\n",
        "    df = pd.DataFrame(results)\n",
        "\n",
        "    # 데이터 출력\n",
        "    print(\"수집된 데이터:\")\n",
        "    display(df.head())\n",
        "\n",
        "    # 분석 예: 날짜별, 성별/연령대별 비율 평균 계산\n",
        "    grouped = df.groupby([\"date\", \"group\"])[\"ratio\"].mean().reset_index()\n",
        "    print(\"성별/연령대별 비율 분석 결과:\")\n",
        "    display(grouped)\n",
        "\n",
        "    # 분석 결과 저장\n",
        "    df.to_csv(\"naver_shopping_analysis.csv\", index=False)\n",
        "    print(\"분석 결과가 'naver_shopping_analysis.csv'에 저장되었습니다.\")\n",
        "else:\n",
        "    print(f\"API 요청 실패: {response.status_code}, {response.text}\")"
      ],
      "metadata": {
        "id": "D0VX7mklvvJ4"
      },
      "execution_count": null,
      "outputs": []
    },
    {
      "cell_type": "code",
      "source": [
        "import requests\n",
        "import pandas as pd\n",
        "\n",
        "# 네이버 API 인증 정보\n",
        "# client_id = \"YOUR_CLIENT_ID\"  # 네이버 API Client ID\n",
        "# client_secret = \"YOUR_CLIENT_SECRET\"  # 네이버 API Client Secret\n",
        "from google.colab import userdata\n",
        "client_id = userdata.get('client_id')\n",
        "client_secret = userdata.get(\"client_secret\")\n",
        "\n",
        "\n",
        "# 검색어 트렌드 API URL\n",
        "url = \"https://openapi.naver.com/v1/datalab/shopping/categories\"\n",
        "\n",
        "# 요청 데이터 설정\n",
        "headers = {\n",
        "    \"X-Naver-Client-Id\": client_id,\n",
        "    \"X-Naver-Client-Secret\": client_secret,\n",
        "    \"Content-Type\": \"application/json\"\n",
        "}\n",
        "\n",
        "# 사용 가능한 카테고리와 이름 설정 (네이버 데이터랩 카테고리 코드 참조)\n",
        "categories = [\n",
        "    {\"name\": \"패션의류\", \"param\": [\"50000000\"]},\n",
        "    {\"name\": \"화장품/미용\", \"param\": [\"50000002\"]},\n",
        "    {\"name\": \"디지털/가전\", \"param\": [\"50000003\"]},\n",
        "    {\"name\": \"가구/인테리어\", \"param\": [\"50000004\"]},\n",
        "    {\"name\": \"출산/육아\", \"param\": [\"50000005\"]},\n",
        "    {\"name\": \"스포츠/레저\", \"param\": [\"50000006\"]},\n",
        "    {\"name\": \"생활/건강\", \"param\": [\"50000007\"]},\n",
        "    {\"name\": \"여가/생활편의\", \"param\": [\"50000008\"]}\n",
        "]\n",
        "\n",
        "# 분석 기간 및 추가 필터링 조건\n",
        "start_date = \"2024-11-01\"\n",
        "end_date = \"2024-12-21\"\n",
        "time_unit = \"date\"\n",
        "device = \"mo\"\n",
        "gender = \"f\"\n",
        "ages = [\"10\", \"20\", \"30\"]\n",
        "\n",
        "# 결과를 저장할 리스트\n",
        "all_results = []\n",
        "\n",
        "# 카테고리별로 API 요청\n",
        "for category in categories:\n",
        "    body = {\n",
        "        \"startDate\": start_date,\n",
        "        \"endDate\": end_date,\n",
        "        \"timeUnit\": time_unit,\n",
        "        \"category\": [category],\n",
        "        \"device\": device,\n",
        "        \"gender\": gender,\n",
        "        \"ages\": ages\n",
        "    }\n",
        "\n",
        "    # API 요청\n",
        "    response = requests.post(url, headers=headers, json=body)\n",
        "\n",
        "    # 응답 처리\n",
        "    if response.status_code == 200:\n",
        "        data = response.json()\n",
        "        for category_data in data[\"results\"]:\n",
        "            for data_point in category_data[\"data\"]:\n",
        "                all_results.append({\n",
        "                    \"date\": data_point[\"period\"],\n",
        "                    \"category\": category[\"name\"],\n",
        "                    \"group\": category_data[\"title\"],\n",
        "                    \"ratio\": data_point[\"ratio\"]\n",
        "                })\n",
        "    else:\n",
        "        print(f\"API 요청 실패: 카테고리 {category['name']}, 상태 코드: {response.status_code}\")\n",
        "        print(\"오류 메시지:\", response.text)\n",
        "\n",
        "# 데이터프레임 생성\n",
        "df = pd.DataFrame(all_results)\n",
        "\n",
        "# 데이터 출력\n",
        "if not df.empty:\n",
        "    print(\"수집된 데이터:\")\n",
        "    print(df.head())\n",
        "\n",
        "    # 데이터 저장\n",
        "    df.to_csv(\"naver_shopping_multiple_categories.csv\", index=False)\n",
        "    print(\"분석 결과가 'naver_shopping_multiple_categories.csv'에 저장되었습니다.\")\n",
        "else:\n",
        "    print(\"수집된 데이터가 없습니다.\")\n"
      ],
      "metadata": {
        "id": "Je57ZdKbxEeV"
      },
      "execution_count": null,
      "outputs": []
    },
    {
      "cell_type": "code",
      "source": [
        "df"
      ],
      "metadata": {
        "id": "vydhRH7Rv5gL"
      },
      "execution_count": null,
      "outputs": []
    },
    {
      "cell_type": "code",
      "source": [
        "df.info()"
      ],
      "metadata": {
        "id": "AqXkINHNxNhl"
      },
      "execution_count": null,
      "outputs": []
    },
    {
      "cell_type": "code",
      "source": [
        "df.describe()"
      ],
      "metadata": {
        "id": "CY4D9d1DxTL9"
      },
      "execution_count": null,
      "outputs": []
    },
    {
      "cell_type": "code",
      "source": [
        "df.describe(include='object')"
      ],
      "metadata": {
        "id": "AamvJHnmxU9c"
      },
      "execution_count": null,
      "outputs": []
    },
    {
      "cell_type": "code",
      "source": [
        "df['category'].value_counts()"
      ],
      "metadata": {
        "id": "XVxzPEejxZQ4"
      },
      "execution_count": null,
      "outputs": []
    },
    {
      "cell_type": "code",
      "source": [
        "df['group'].value_counts()"
      ],
      "metadata": {
        "id": "RUxMKuoexho5"
      },
      "execution_count": null,
      "outputs": []
    },
    {
      "cell_type": "code",
      "source": [
        "# prompt: koreanize_matplotlib 설치 및 설정\n",
        "\n",
        "!pip install -q koreanize-matplotlib\n",
        "\n",
        "import matplotlib.pyplot as plt\n",
        "import koreanize_matplotlib"
      ],
      "metadata": {
        "id": "aUZiXZ-Kx6_6"
      },
      "execution_count": null,
      "outputs": []
    },
    {
      "cell_type": "code",
      "source": [
        "# prompt: df 변수의 날짜를 월, 요일로 변환하고 월별 요일별 분석코드 작성\n",
        "\n",
        "import pandas as pd\n",
        "\n",
        "# 날짜 열을 datetime 객체로 변환\n",
        "df['date'] = pd.to_datetime(df['date'])\n",
        "\n",
        "# 월과 요일 추출\n",
        "df['month'] = df['date'].dt.month\n",
        "df['dayofweek'] = df['date'].dt.dayofweek  # 0: 월요일, 6: 일요일\n",
        "\n",
        "# 월별, 요일별 분석\n",
        "monthly_analysis = df.groupby('month')['ratio'].mean()\n",
        "print(\"월별 평균 ratio:\")\n",
        "print(monthly_analysis)\n",
        "\n",
        "daily_analysis = df.groupby('dayofweek')['ratio'].mean()\n",
        "print(\"\\n요일별 평균 ratio:\")\n",
        "print(daily_analysis)\n",
        "\n",
        "# 월별, 요일별 시각화 (선택 사항)\n",
        "import matplotlib.pyplot as plt\n",
        "\n",
        "plt.figure(figsize=(12, 5))\n",
        "\n",
        "plt.subplot(1, 2, 1)\n",
        "monthly_analysis.plot(kind='bar')\n",
        "plt.title('Monthly Average Ratio')\n",
        "plt.xlabel('Month')\n",
        "plt.ylabel('Average Ratio')\n",
        "\n",
        "plt.subplot(1, 2, 2)\n",
        "daily_analysis.plot(kind='bar')\n",
        "plt.title('Daily Average Ratio')\n",
        "plt.xlabel('Day of Week (0:Monday, 6:Sunday)')\n",
        "plt.ylabel('Average Ratio')\n",
        "\n",
        "plt.tight_layout()\n",
        "plt.show()"
      ],
      "metadata": {
        "id": "Y0GsVEJKwVrz"
      },
      "execution_count": null,
      "outputs": []
    },
    {
      "cell_type": "code",
      "source": [
        "# prompt: 연도, 월별 ratio 교차표 생성하고 히트맵으로 시각화\n",
        "\n",
        "import pandas as pd\n",
        "import matplotlib.pyplot as plt\n",
        "import seaborn as sns\n",
        "\n",
        "# Assuming 'df' is your DataFrame with 'month', 'category', and 'ratio' columns\n",
        "\n",
        "# Create a pivot table for ratio by month and category\n",
        "pivot_table = pd.pivot_table(df, values='ratio', index='month', columns='category', aggfunc='mean')\n",
        "display(pivot_table)\n",
        "\n",
        "# Create the heatmap\n",
        "plt.figure(figsize=(10, 6))\n",
        "sns.heatmap(pivot_table, annot=True, fmt=\".2f\", cmap=\"YlGnBu\")\n",
        "plt.title(\"Ratio Heatmap by Month and Category\")\n",
        "plt.xlabel(\"Category\")\n",
        "plt.ylabel(\"Month\")\n",
        "plt.show()"
      ],
      "metadata": {
        "id": "XDf-Juu6w8ZG"
      },
      "execution_count": null,
      "outputs": []
    },
    {
      "cell_type": "code",
      "source": [],
      "metadata": {
        "id": "CzewcxyDx4Hj"
      },
      "execution_count": null,
      "outputs": []
    }
  ]
}